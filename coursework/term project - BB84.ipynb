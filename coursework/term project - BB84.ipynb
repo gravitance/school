{
 "cells": [
  {
   "cell_type": "markdown",
   "id": "6f0d15cf",
   "metadata": {},
   "source": [
    "### For Graduate QM Term Project 2023\n",
    "Geraldine (gera0037@ntu.edu.sg)."
   ]
  },
  {
   "cell_type": "markdown",
   "id": "10a8f9a6",
   "metadata": {},
   "source": [
    "# Quantum Cryptography – BB84\n",
    "\n",
    "This Jupyter notebook is an appendix / supplementary to the report. Results have been included in the report, but this is a more detailed documentation of my computational process.\n",
    "\n",
    "Download the ipynb file from my <a href=\"https://github.com/gravitance/school/blob/main/coursework/term%20project%20-%20BB84.ipynb\">Github</a> or <a href=\"https://drive.google.com/drive/folders/1_qUJzKGbcYd97tS0bAS1vBVDWMqT5NLL?usp=share_link\">Gdrive</a> to run the simulations or interact with the code.\n",
    "\n",
    "Brief contents:\n",
    "- Working through the BB84 protocol in matrix and state representation\n",
    "- Simulating the BB84 protocol for:\n",
    "    - Case without eavesdropper\n",
    "    - Case with eavesdropper"
   ]
  },
  {
   "cell_type": "markdown",
   "id": "85a3ffd2",
   "metadata": {},
   "source": [
    "## Before attempting the simulation,\n",
    "\n",
    "I try to first visualize and understand how the protocol works mathematically, using matrix representation and states."
   ]
  },
  {
   "cell_type": "code",
   "execution_count": 1,
   "id": "b683c495",
   "metadata": {},
   "outputs": [],
   "source": [
    "import numpy as np\n",
    "import sympy as sp\n",
    "import random"
   ]
  },
  {
   "cell_type": "markdown",
   "id": "b4819563",
   "metadata": {},
   "source": [
    "### states, encoding bases."
   ]
  },
  {
   "cell_type": "code",
   "execution_count": 2,
   "id": "27eef8b5",
   "metadata": {},
   "outputs": [],
   "source": [
    "bit0   = np.array([1.0, 0.0])\n",
    "bit1 = np.array([0.0, 1.0])\n",
    "\n",
    "h   = np.array([1.0, 0.0])\n",
    "v = np.array([0.0, 1.0])\n",
    "d = 1/np.sqrt(2) * (h - v)\n",
    "g = 1/np.sqrt(2) * (h + v)"
   ]
  },
  {
   "cell_type": "markdown",
   "id": "2e615839",
   "metadata": {},
   "source": [
    "### all possible encoded states."
   ]
  },
  {
   "cell_type": "code",
   "execution_count": 3,
   "id": "d1e9167d",
   "metadata": {},
   "outputs": [
    {
     "data": {
      "text/plain": [
       "'\\ndisplay(sp.Matrix(bit0_h))\\ndisplay(sp.Matrix(bit0_v))\\ndisplay(sp.Matrix(bit0_d))\\ndisplay(sp.Matrix(bit0_g))\\n\\ndisplay(sp.Matrix(bit1_h))\\ndisplay(sp.Matrix(bit1_v))\\ndisplay(sp.Matrix(bit1_d))\\ndisplay(sp.Matrix(bit1_g))\\n'"
      ]
     },
     "execution_count": 3,
     "metadata": {},
     "output_type": "execute_result"
    }
   ],
   "source": [
    "bit0_h = np.kron(bit0,h)\n",
    "bit0_v = np.kron(bit0,v)\n",
    "bit0_d = np.kron(bit0,d)\n",
    "bit0_g = np.kron(bit0,g)\n",
    "\n",
    "bit1_h = np.kron(bit1,h)\n",
    "bit1_v = np.kron(bit1,v)\n",
    "bit1_d = np.kron(bit1,d)\n",
    "bit1_g = np.kron(bit1,g)\n",
    "\n",
    "\"\"\"\n",
    "display(sp.Matrix(bit0_h))\n",
    "display(sp.Matrix(bit0_v))\n",
    "display(sp.Matrix(bit0_d))\n",
    "display(sp.Matrix(bit0_g))\n",
    "\n",
    "display(sp.Matrix(bit1_h))\n",
    "display(sp.Matrix(bit1_v))\n",
    "display(sp.Matrix(bit1_d))\n",
    "display(sp.Matrix(bit1_g))\n",
    "\"\"\""
   ]
  },
  {
   "cell_type": "markdown",
   "id": "3d7009f1",
   "metadata": {},
   "source": [
    "### matrix operators for components."
   ]
  },
  {
   "cell_type": "code",
   "execution_count": 4,
   "id": "ff90c630",
   "metadata": {},
   "outputs": [
    {
     "data": {
      "text/latex": [
       "$\\displaystyle \\left[\\begin{matrix}0 & 0 & 0.707106781186547 & -0.707106781186547\\\\0.707106781186547 & 0.707106781186547 & 0 & 0\\\\0.707106781186547 & -0.707106781186547 & 0 & 0\\\\0 & 0 & 0.707106781186547 & 0.707106781186547\\end{matrix}\\right]$"
      ],
      "text/plain": [
       "Matrix([\n",
       "[                0,                  0, 0.707106781186547, -0.707106781186547],\n",
       "[0.707106781186547,  0.707106781186547,                 0,                  0],\n",
       "[0.707106781186547, -0.707106781186547,                 0,                  0],\n",
       "[                0,                  0, 0.707106781186547,  0.707106781186547]])"
      ]
     },
     "metadata": {},
     "output_type": "display_data"
    }
   ],
   "source": [
    "comp = np.kron(np.outer(h,h.conj()), np.eye(2)) + np.kron(np.outer(v,v.conj()),np.eye(2))\n",
    "#display(sp.Matrix(comp))\n",
    "\n",
    "had = np.kron(np.outer(d,d.conj()), np.eye(2)) + np.kron(np.outer(g,g.conj()),np.eye(2))\n",
    "#display(sp.Matrix(had))\n",
    "\n",
    "mirror = np.array([[0,1],[1,0]])\n",
    "rotator = 1/np.sqrt(2) * np.array([[1,-1],[1,1]])\n",
    "mrot = np.kron(mirror,rotator)\n",
    "#display(sp.Matrix(mrot))\n",
    "\n",
    "pbs = np.array([[1,0,0,0],[0,0,0,1],[0,0,1,0],[0,1,0,0]])\n",
    "\n",
    "pmes = np.dot(pbs,mrot)\n",
    "display(sp.Matrix(pmes))"
   ]
  },
  {
   "cell_type": "markdown",
   "id": "5e13ec29",
   "metadata": {},
   "source": [
    "### function to measure and output final state.\n",
    "to make my life easier. basically it shoots alice's encoded bit over to bob and measures it with the chosen basis."
   ]
  },
  {
   "cell_type": "code",
   "execution_count": 5,
   "id": "52e089dc",
   "metadata": {},
   "outputs": [],
   "source": [
    "def shoot(init,basis):\n",
    "    states = {'bit0_h': bit0_h, 'bit0_v' : bit0_v, 'bit0_d' : bit0_d, 'bit0_g' : bit0_g, 'bit1_h' : bit1_h, 'bit1_v' : bit1_v, 'bit1_d' : bit1_d, 'bit1_g' : bit1_g}\n",
    "    \n",
    "    for key in states:\n",
    "        if (states[key] == init).all():\n",
    "            initial = key\n",
    "    \n",
    "    psi0 = init\n",
    "    print(f\"initial state: {initial}\")\n",
    "    print(\"before measurement:\")\n",
    "    display(sp.Matrix(psi0))\n",
    "    \n",
    "    if basis == \"comp\":\n",
    "        ms = np.dot(comp,np.dot(pbs,psi0))\n",
    "\n",
    "    elif basis == \"had\":\n",
    "        ms = np.dot(had,np.dot(pmes,psi0))\n",
    "\n",
    "    else:\n",
    "        print(\"error.\")\n",
    "        return\n",
    "    \n",
    "    print(f\"measuring basis: {basis}\")\n",
    "    print(\"after measurement:\")\n",
    "    display(sp.Matrix(ms))\n",
    "        \n",
    "    ph = abs(ms[0])**2\n",
    "    pv = abs(ms[1])**2\n",
    "    pd = abs(ms[2])**2\n",
    "    pg = abs(ms[3])**2\n",
    "\n",
    "    print(f\"prob 0_h: {ph}\\nprob 0_v: {pv}\")\n",
    "    print(f\"prob 1_h: {pd}\\nprob 1_v: {pg}\")\n",
    "\n",
    "    states.clear()\n",
    "    "
   ]
  },
  {
   "cell_type": "markdown",
   "id": "3a02518d",
   "metadata": {},
   "source": [
    "### measure in computational basis."
   ]
  },
  {
   "cell_type": "code",
   "execution_count": 6,
   "id": "144af983",
   "metadata": {
    "scrolled": false
   },
   "outputs": [
    {
     "name": "stdout",
     "output_type": "stream",
     "text": [
      "--- INITIAL ENCODED H STATE ---\n",
      "\n",
      "initial state: bit0_h\n",
      "before measurement:\n"
     ]
    },
    {
     "data": {
      "text/latex": [
       "$\\displaystyle \\left[\\begin{matrix}1.0\\\\0\\\\0\\\\0\\end{matrix}\\right]$"
      ],
      "text/plain": [
       "Matrix([\n",
       "[1.0],\n",
       "[  0],\n",
       "[  0],\n",
       "[  0]])"
      ]
     },
     "metadata": {},
     "output_type": "display_data"
    },
    {
     "name": "stdout",
     "output_type": "stream",
     "text": [
      "measuring basis: comp\n",
      "after measurement:\n"
     ]
    },
    {
     "data": {
      "text/latex": [
       "$\\displaystyle \\left[\\begin{matrix}1.0\\\\0\\\\0\\\\0\\end{matrix}\\right]$"
      ],
      "text/plain": [
       "Matrix([\n",
       "[1.0],\n",
       "[  0],\n",
       "[  0],\n",
       "[  0]])"
      ]
     },
     "metadata": {},
     "output_type": "display_data"
    },
    {
     "name": "stdout",
     "output_type": "stream",
     "text": [
      "prob 0_h: 1.0\n",
      "prob 0_v: 0.0\n",
      "prob 1_h: 0.0\n",
      "prob 1_v: 0.0\n",
      "-----\n",
      "initial state: bit1_h\n",
      "before measurement:\n"
     ]
    },
    {
     "data": {
      "text/latex": [
       "$\\displaystyle \\left[\\begin{matrix}0\\\\0\\\\1.0\\\\0\\end{matrix}\\right]$"
      ],
      "text/plain": [
       "Matrix([\n",
       "[  0],\n",
       "[  0],\n",
       "[1.0],\n",
       "[  0]])"
      ]
     },
     "metadata": {},
     "output_type": "display_data"
    },
    {
     "name": "stdout",
     "output_type": "stream",
     "text": [
      "measuring basis: comp\n",
      "after measurement:\n"
     ]
    },
    {
     "data": {
      "text/latex": [
       "$\\displaystyle \\left[\\begin{matrix}0\\\\0\\\\1.0\\\\0\\end{matrix}\\right]$"
      ],
      "text/plain": [
       "Matrix([\n",
       "[  0],\n",
       "[  0],\n",
       "[1.0],\n",
       "[  0]])"
      ]
     },
     "metadata": {},
     "output_type": "display_data"
    },
    {
     "name": "stdout",
     "output_type": "stream",
     "text": [
      "prob 0_h: 0.0\n",
      "prob 0_v: 0.0\n",
      "prob 1_h: 1.0\n",
      "prob 1_v: 0.0\n",
      "\n",
      "--- INITIAL ENCODED V STATE ---\n",
      "\n",
      "initial state: bit0_v\n",
      "before measurement:\n"
     ]
    },
    {
     "data": {
      "text/latex": [
       "$\\displaystyle \\left[\\begin{matrix}0\\\\1.0\\\\0\\\\0\\end{matrix}\\right]$"
      ],
      "text/plain": [
       "Matrix([\n",
       "[  0],\n",
       "[1.0],\n",
       "[  0],\n",
       "[  0]])"
      ]
     },
     "metadata": {},
     "output_type": "display_data"
    },
    {
     "name": "stdout",
     "output_type": "stream",
     "text": [
      "measuring basis: comp\n",
      "after measurement:\n"
     ]
    },
    {
     "data": {
      "text/latex": [
       "$\\displaystyle \\left[\\begin{matrix}0\\\\0\\\\0\\\\1.0\\end{matrix}\\right]$"
      ],
      "text/plain": [
       "Matrix([\n",
       "[  0],\n",
       "[  0],\n",
       "[  0],\n",
       "[1.0]])"
      ]
     },
     "metadata": {},
     "output_type": "display_data"
    },
    {
     "name": "stdout",
     "output_type": "stream",
     "text": [
      "prob 0_h: 0.0\n",
      "prob 0_v: 0.0\n",
      "prob 1_h: 0.0\n",
      "prob 1_v: 1.0\n",
      "-----\n",
      "initial state: bit1_v\n",
      "before measurement:\n"
     ]
    },
    {
     "data": {
      "text/latex": [
       "$\\displaystyle \\left[\\begin{matrix}0\\\\0\\\\0\\\\1.0\\end{matrix}\\right]$"
      ],
      "text/plain": [
       "Matrix([\n",
       "[  0],\n",
       "[  0],\n",
       "[  0],\n",
       "[1.0]])"
      ]
     },
     "metadata": {},
     "output_type": "display_data"
    },
    {
     "name": "stdout",
     "output_type": "stream",
     "text": [
      "measuring basis: comp\n",
      "after measurement:\n"
     ]
    },
    {
     "data": {
      "text/latex": [
       "$\\displaystyle \\left[\\begin{matrix}0\\\\1.0\\\\0\\\\0\\end{matrix}\\right]$"
      ],
      "text/plain": [
       "Matrix([\n",
       "[  0],\n",
       "[1.0],\n",
       "[  0],\n",
       "[  0]])"
      ]
     },
     "metadata": {},
     "output_type": "display_data"
    },
    {
     "name": "stdout",
     "output_type": "stream",
     "text": [
      "prob 0_h: 0.0\n",
      "prob 0_v: 1.0\n",
      "prob 1_h: 0.0\n",
      "prob 1_v: 0.0\n",
      "\n",
      "--- INITIAL ENCODED D STATE ---\n",
      "\n",
      "initial state: bit0_d\n",
      "before measurement:\n"
     ]
    },
    {
     "data": {
      "text/latex": [
       "$\\displaystyle \\left[\\begin{matrix}0.707106781186547\\\\-0.707106781186547\\\\0\\\\0\\end{matrix}\\right]$"
      ],
      "text/plain": [
       "Matrix([\n",
       "[ 0.707106781186547],\n",
       "[-0.707106781186547],\n",
       "[                 0],\n",
       "[                 0]])"
      ]
     },
     "metadata": {},
     "output_type": "display_data"
    },
    {
     "name": "stdout",
     "output_type": "stream",
     "text": [
      "measuring basis: comp\n",
      "after measurement:\n"
     ]
    },
    {
     "data": {
      "text/latex": [
       "$\\displaystyle \\left[\\begin{matrix}0.707106781186547\\\\0\\\\0\\\\-0.707106781186547\\end{matrix}\\right]$"
      ],
      "text/plain": [
       "Matrix([\n",
       "[ 0.707106781186547],\n",
       "[                 0],\n",
       "[                 0],\n",
       "[-0.707106781186547]])"
      ]
     },
     "metadata": {},
     "output_type": "display_data"
    },
    {
     "name": "stdout",
     "output_type": "stream",
     "text": [
      "prob 0_h: 0.4999999999999999\n",
      "prob 0_v: 0.0\n",
      "prob 1_h: 0.0\n",
      "prob 1_v: 0.4999999999999999\n",
      "-----\n",
      "initial state: bit1_d\n",
      "before measurement:\n"
     ]
    },
    {
     "data": {
      "text/latex": [
       "$\\displaystyle \\left[\\begin{matrix}0\\\\0\\\\0.707106781186547\\\\-0.707106781186547\\end{matrix}\\right]$"
      ],
      "text/plain": [
       "Matrix([\n",
       "[                 0],\n",
       "[                 0],\n",
       "[ 0.707106781186547],\n",
       "[-0.707106781186547]])"
      ]
     },
     "metadata": {},
     "output_type": "display_data"
    },
    {
     "name": "stdout",
     "output_type": "stream",
     "text": [
      "measuring basis: comp\n",
      "after measurement:\n"
     ]
    },
    {
     "data": {
      "text/latex": [
       "$\\displaystyle \\left[\\begin{matrix}0\\\\-0.707106781186547\\\\0.707106781186547\\\\0\\end{matrix}\\right]$"
      ],
      "text/plain": [
       "Matrix([\n",
       "[                 0],\n",
       "[-0.707106781186547],\n",
       "[ 0.707106781186547],\n",
       "[                 0]])"
      ]
     },
     "metadata": {},
     "output_type": "display_data"
    },
    {
     "name": "stdout",
     "output_type": "stream",
     "text": [
      "prob 0_h: 0.0\n",
      "prob 0_v: 0.4999999999999999\n",
      "prob 1_h: 0.4999999999999999\n",
      "prob 1_v: 0.0\n",
      "\n",
      "--- INITIAL ENCODED G STATE ---\n",
      "\n",
      "initial state: bit0_g\n",
      "before measurement:\n"
     ]
    },
    {
     "data": {
      "text/latex": [
       "$\\displaystyle \\left[\\begin{matrix}0.707106781186547\\\\0.707106781186547\\\\0\\\\0\\end{matrix}\\right]$"
      ],
      "text/plain": [
       "Matrix([\n",
       "[0.707106781186547],\n",
       "[0.707106781186547],\n",
       "[                0],\n",
       "[                0]])"
      ]
     },
     "metadata": {},
     "output_type": "display_data"
    },
    {
     "name": "stdout",
     "output_type": "stream",
     "text": [
      "measuring basis: comp\n",
      "after measurement:\n"
     ]
    },
    {
     "data": {
      "text/latex": [
       "$\\displaystyle \\left[\\begin{matrix}0.707106781186547\\\\0\\\\0\\\\0.707106781186547\\end{matrix}\\right]$"
      ],
      "text/plain": [
       "Matrix([\n",
       "[0.707106781186547],\n",
       "[                0],\n",
       "[                0],\n",
       "[0.707106781186547]])"
      ]
     },
     "metadata": {},
     "output_type": "display_data"
    },
    {
     "name": "stdout",
     "output_type": "stream",
     "text": [
      "prob 0_h: 0.4999999999999999\n",
      "prob 0_v: 0.0\n",
      "prob 1_h: 0.0\n",
      "prob 1_v: 0.4999999999999999\n",
      "-----\n",
      "initial state: bit1_g\n",
      "before measurement:\n"
     ]
    },
    {
     "data": {
      "text/latex": [
       "$\\displaystyle \\left[\\begin{matrix}0\\\\0\\\\0.707106781186547\\\\0.707106781186547\\end{matrix}\\right]$"
      ],
      "text/plain": [
       "Matrix([\n",
       "[                0],\n",
       "[                0],\n",
       "[0.707106781186547],\n",
       "[0.707106781186547]])"
      ]
     },
     "metadata": {},
     "output_type": "display_data"
    },
    {
     "name": "stdout",
     "output_type": "stream",
     "text": [
      "measuring basis: comp\n",
      "after measurement:\n"
     ]
    },
    {
     "data": {
      "text/latex": [
       "$\\displaystyle \\left[\\begin{matrix}0\\\\0.707106781186547\\\\0.707106781186547\\\\0\\end{matrix}\\right]$"
      ],
      "text/plain": [
       "Matrix([\n",
       "[                0],\n",
       "[0.707106781186547],\n",
       "[0.707106781186547],\n",
       "[                0]])"
      ]
     },
     "metadata": {},
     "output_type": "display_data"
    },
    {
     "name": "stdout",
     "output_type": "stream",
     "text": [
      "prob 0_h: 0.0\n",
      "prob 0_v: 0.4999999999999999\n",
      "prob 1_h: 0.4999999999999999\n",
      "prob 1_v: 0.0\n"
     ]
    }
   ],
   "source": [
    "print(\"--- INITIAL ENCODED H STATE ---\\n\")\n",
    "\n",
    "init = bit0_h\n",
    "basis = \"comp\"\n",
    "shoot(init,basis)\n",
    "\n",
    "print(\"-----\")\n",
    "\n",
    "init = bit1_h\n",
    "basis = \"comp\"\n",
    "shoot(init,basis)\n",
    "\n",
    "print()\n",
    "\n",
    "print(\"--- INITIAL ENCODED V STATE ---\\n\")\n",
    "\n",
    "init = bit0_v\n",
    "basis = \"comp\"\n",
    "shoot(init,basis)\n",
    "\n",
    "print(\"-----\")\n",
    "\n",
    "init = bit1_v\n",
    "basis = \"comp\"\n",
    "shoot(init,basis)\n",
    "\n",
    "print()\n",
    "\n",
    "print(\"--- INITIAL ENCODED D STATE ---\\n\")\n",
    "\n",
    "init = bit0_d\n",
    "basis = \"comp\"\n",
    "shoot(init,basis)\n",
    "\n",
    "print(\"-----\")\n",
    "\n",
    "init = bit1_d\n",
    "basis = \"comp\"\n",
    "shoot(init,basis)\n",
    "\n",
    "print()\n",
    "\n",
    "print(\"--- INITIAL ENCODED G STATE ---\\n\")\n",
    "\n",
    "init = bit0_g\n",
    "basis = \"comp\"\n",
    "shoot(init,basis)\n",
    "\n",
    "print(\"-----\")\n",
    "\n",
    "init = bit1_g\n",
    "basis = \"comp\"\n",
    "shoot(init,basis)"
   ]
  },
  {
   "cell_type": "markdown",
   "id": "360e9f7f",
   "metadata": {},
   "source": [
    "### measure in hadamard basis."
   ]
  },
  {
   "cell_type": "code",
   "execution_count": 7,
   "id": "43c5f14d",
   "metadata": {
    "scrolled": false
   },
   "outputs": [
    {
     "name": "stdout",
     "output_type": "stream",
     "text": [
      "--- INITIAL ENCODED H STATE ---\n",
      "\n",
      "initial state: bit0_h\n",
      "before measurement:\n"
     ]
    },
    {
     "data": {
      "text/latex": [
       "$\\displaystyle \\left[\\begin{matrix}1.0\\\\0\\\\0\\\\0\\end{matrix}\\right]$"
      ],
      "text/plain": [
       "Matrix([\n",
       "[1.0],\n",
       "[  0],\n",
       "[  0],\n",
       "[  0]])"
      ]
     },
     "metadata": {},
     "output_type": "display_data"
    },
    {
     "name": "stdout",
     "output_type": "stream",
     "text": [
      "measuring basis: had\n",
      "after measurement:\n"
     ]
    },
    {
     "data": {
      "text/latex": [
       "$\\displaystyle \\left[\\begin{matrix}0\\\\0.707106781186547\\\\0.707106781186547\\\\0\\end{matrix}\\right]$"
      ],
      "text/plain": [
       "Matrix([\n",
       "[                0],\n",
       "[0.707106781186547],\n",
       "[0.707106781186547],\n",
       "[                0]])"
      ]
     },
     "metadata": {},
     "output_type": "display_data"
    },
    {
     "name": "stdout",
     "output_type": "stream",
     "text": [
      "prob 0_h: 0.0\n",
      "prob 0_v: 0.4999999999999998\n",
      "prob 1_h: 0.4999999999999998\n",
      "prob 1_v: 0.0\n",
      "-----\n",
      "initial state: bit1_h\n",
      "before measurement:\n"
     ]
    },
    {
     "data": {
      "text/latex": [
       "$\\displaystyle \\left[\\begin{matrix}0\\\\0\\\\1.0\\\\0\\end{matrix}\\right]$"
      ],
      "text/plain": [
       "Matrix([\n",
       "[  0],\n",
       "[  0],\n",
       "[1.0],\n",
       "[  0]])"
      ]
     },
     "metadata": {},
     "output_type": "display_data"
    },
    {
     "name": "stdout",
     "output_type": "stream",
     "text": [
      "measuring basis: had\n",
      "after measurement:\n"
     ]
    },
    {
     "data": {
      "text/latex": [
       "$\\displaystyle \\left[\\begin{matrix}0.707106781186547\\\\0\\\\0\\\\0.707106781186547\\end{matrix}\\right]$"
      ],
      "text/plain": [
       "Matrix([\n",
       "[0.707106781186547],\n",
       "[                0],\n",
       "[                0],\n",
       "[0.707106781186547]])"
      ]
     },
     "metadata": {},
     "output_type": "display_data"
    },
    {
     "name": "stdout",
     "output_type": "stream",
     "text": [
      "prob 0_h: 0.4999999999999998\n",
      "prob 0_v: 0.0\n",
      "prob 1_h: 0.0\n",
      "prob 1_v: 0.4999999999999998\n",
      "\n",
      "--- INITIAL ENCODED V STATE ---\n",
      "\n",
      "initial state: bit0_v\n",
      "before measurement:\n"
     ]
    },
    {
     "data": {
      "text/latex": [
       "$\\displaystyle \\left[\\begin{matrix}0\\\\1.0\\\\0\\\\0\\end{matrix}\\right]$"
      ],
      "text/plain": [
       "Matrix([\n",
       "[  0],\n",
       "[1.0],\n",
       "[  0],\n",
       "[  0]])"
      ]
     },
     "metadata": {},
     "output_type": "display_data"
    },
    {
     "name": "stdout",
     "output_type": "stream",
     "text": [
      "measuring basis: had\n",
      "after measurement:\n"
     ]
    },
    {
     "data": {
      "text/latex": [
       "$\\displaystyle \\left[\\begin{matrix}0\\\\0.707106781186547\\\\-0.707106781186547\\\\0\\end{matrix}\\right]$"
      ],
      "text/plain": [
       "Matrix([\n",
       "[                 0],\n",
       "[ 0.707106781186547],\n",
       "[-0.707106781186547],\n",
       "[                 0]])"
      ]
     },
     "metadata": {},
     "output_type": "display_data"
    },
    {
     "name": "stdout",
     "output_type": "stream",
     "text": [
      "prob 0_h: 0.0\n",
      "prob 0_v: 0.4999999999999998\n",
      "prob 1_h: 0.4999999999999998\n",
      "prob 1_v: 0.0\n",
      "-----\n",
      "initial state: bit1_v\n",
      "before measurement:\n"
     ]
    },
    {
     "data": {
      "text/latex": [
       "$\\displaystyle \\left[\\begin{matrix}0\\\\0\\\\0\\\\1.0\\end{matrix}\\right]$"
      ],
      "text/plain": [
       "Matrix([\n",
       "[  0],\n",
       "[  0],\n",
       "[  0],\n",
       "[1.0]])"
      ]
     },
     "metadata": {},
     "output_type": "display_data"
    },
    {
     "name": "stdout",
     "output_type": "stream",
     "text": [
      "measuring basis: had\n",
      "after measurement:\n"
     ]
    },
    {
     "data": {
      "text/latex": [
       "$\\displaystyle \\left[\\begin{matrix}-0.707106781186547\\\\0\\\\0\\\\0.707106781186547\\end{matrix}\\right]$"
      ],
      "text/plain": [
       "Matrix([\n",
       "[-0.707106781186547],\n",
       "[                 0],\n",
       "[                 0],\n",
       "[ 0.707106781186547]])"
      ]
     },
     "metadata": {},
     "output_type": "display_data"
    },
    {
     "name": "stdout",
     "output_type": "stream",
     "text": [
      "prob 0_h: 0.4999999999999998\n",
      "prob 0_v: 0.0\n",
      "prob 1_h: 0.0\n",
      "prob 1_v: 0.4999999999999998\n",
      "\n",
      "--- INITIAL ENCODED D STATE ---\n",
      "\n",
      "initial state: bit0_d\n",
      "before measurement:\n"
     ]
    },
    {
     "data": {
      "text/latex": [
       "$\\displaystyle \\left[\\begin{matrix}0.707106781186547\\\\-0.707106781186547\\\\0\\\\0\\end{matrix}\\right]$"
      ],
      "text/plain": [
       "Matrix([\n",
       "[ 0.707106781186547],\n",
       "[-0.707106781186547],\n",
       "[                 0],\n",
       "[                 0]])"
      ]
     },
     "metadata": {},
     "output_type": "display_data"
    },
    {
     "name": "stdout",
     "output_type": "stream",
     "text": [
      "measuring basis: had\n",
      "after measurement:\n"
     ]
    },
    {
     "data": {
      "text/latex": [
       "$\\displaystyle \\left[\\begin{matrix}0\\\\0\\\\1.0\\\\0\\end{matrix}\\right]$"
      ],
      "text/plain": [
       "Matrix([\n",
       "[  0],\n",
       "[  0],\n",
       "[1.0],\n",
       "[  0]])"
      ]
     },
     "metadata": {},
     "output_type": "display_data"
    },
    {
     "name": "stdout",
     "output_type": "stream",
     "text": [
      "prob 0_h: 0.0\n",
      "prob 0_v: 0.0\n",
      "prob 1_h: 0.9999999999999991\n",
      "prob 1_v: 0.0\n",
      "-----\n",
      "initial state: bit1_d\n",
      "before measurement:\n"
     ]
    },
    {
     "data": {
      "text/latex": [
       "$\\displaystyle \\left[\\begin{matrix}0\\\\0\\\\0.707106781186547\\\\-0.707106781186547\\end{matrix}\\right]$"
      ],
      "text/plain": [
       "Matrix([\n",
       "[                 0],\n",
       "[                 0],\n",
       "[ 0.707106781186547],\n",
       "[-0.707106781186547]])"
      ]
     },
     "metadata": {},
     "output_type": "display_data"
    },
    {
     "name": "stdout",
     "output_type": "stream",
     "text": [
      "measuring basis: had\n",
      "after measurement:\n"
     ]
    },
    {
     "data": {
      "text/latex": [
       "$\\displaystyle \\left[\\begin{matrix}1.0\\\\0\\\\0\\\\0\\end{matrix}\\right]$"
      ],
      "text/plain": [
       "Matrix([\n",
       "[1.0],\n",
       "[  0],\n",
       "[  0],\n",
       "[  0]])"
      ]
     },
     "metadata": {},
     "output_type": "display_data"
    },
    {
     "name": "stdout",
     "output_type": "stream",
     "text": [
      "prob 0_h: 0.9999999999999991\n",
      "prob 0_v: 0.0\n",
      "prob 1_h: 0.0\n",
      "prob 1_v: 0.0\n",
      "\n",
      "--- INITIAL ENCODED G STATE ---\n",
      "\n",
      "initial state: bit0_g\n",
      "before measurement:\n"
     ]
    },
    {
     "data": {
      "text/latex": [
       "$\\displaystyle \\left[\\begin{matrix}0.707106781186547\\\\0.707106781186547\\\\0\\\\0\\end{matrix}\\right]$"
      ],
      "text/plain": [
       "Matrix([\n",
       "[0.707106781186547],\n",
       "[0.707106781186547],\n",
       "[                0],\n",
       "[                0]])"
      ]
     },
     "metadata": {},
     "output_type": "display_data"
    },
    {
     "name": "stdout",
     "output_type": "stream",
     "text": [
      "measuring basis: had\n",
      "after measurement:\n"
     ]
    },
    {
     "data": {
      "text/latex": [
       "$\\displaystyle \\left[\\begin{matrix}0\\\\1.0\\\\0\\\\0\\end{matrix}\\right]$"
      ],
      "text/plain": [
       "Matrix([\n",
       "[  0],\n",
       "[1.0],\n",
       "[  0],\n",
       "[  0]])"
      ]
     },
     "metadata": {},
     "output_type": "display_data"
    },
    {
     "name": "stdout",
     "output_type": "stream",
     "text": [
      "prob 0_h: 0.0\n",
      "prob 0_v: 0.9999999999999991\n",
      "prob 1_h: 0.0\n",
      "prob 1_v: 0.0\n",
      "-----\n",
      "initial state: bit1_g\n",
      "before measurement:\n"
     ]
    },
    {
     "data": {
      "text/latex": [
       "$\\displaystyle \\left[\\begin{matrix}0\\\\0\\\\0.707106781186547\\\\0.707106781186547\\end{matrix}\\right]$"
      ],
      "text/plain": [
       "Matrix([\n",
       "[                0],\n",
       "[                0],\n",
       "[0.707106781186547],\n",
       "[0.707106781186547]])"
      ]
     },
     "metadata": {},
     "output_type": "display_data"
    },
    {
     "name": "stdout",
     "output_type": "stream",
     "text": [
      "measuring basis: had\n",
      "after measurement:\n"
     ]
    },
    {
     "data": {
      "text/latex": [
       "$\\displaystyle \\left[\\begin{matrix}0\\\\0\\\\0\\\\1.0\\end{matrix}\\right]$"
      ],
      "text/plain": [
       "Matrix([\n",
       "[  0],\n",
       "[  0],\n",
       "[  0],\n",
       "[1.0]])"
      ]
     },
     "metadata": {},
     "output_type": "display_data"
    },
    {
     "name": "stdout",
     "output_type": "stream",
     "text": [
      "prob 0_h: 0.0\n",
      "prob 0_v: 0.0\n",
      "prob 1_h: 0.0\n",
      "prob 1_v: 0.9999999999999991\n"
     ]
    }
   ],
   "source": [
    "print(\"--- INITIAL ENCODED H STATE ---\\n\")\n",
    "\n",
    "init = bit0_h\n",
    "basis = \"had\"\n",
    "shoot(init,basis)\n",
    "\n",
    "print(\"-----\")\n",
    "\n",
    "init = bit1_h\n",
    "basis = \"had\"\n",
    "shoot(init,basis)\n",
    "\n",
    "print()\n",
    "\n",
    "print(\"--- INITIAL ENCODED V STATE ---\\n\")\n",
    "\n",
    "init = bit0_v\n",
    "basis = \"had\"\n",
    "shoot(init,basis)\n",
    "\n",
    "print(\"-----\")\n",
    "\n",
    "init = bit1_v\n",
    "basis = \"had\"\n",
    "shoot(init,basis)\n",
    "\n",
    "print()\n",
    "\n",
    "print(\"--- INITIAL ENCODED D STATE ---\\n\")\n",
    "\n",
    "init = bit0_d\n",
    "basis = \"had\"\n",
    "shoot(init,basis)\n",
    "\n",
    "print(\"-----\")\n",
    "\n",
    "init = bit1_d\n",
    "basis = \"had\"\n",
    "shoot(init,basis)\n",
    "\n",
    "print()\n",
    "\n",
    "print(\"--- INITIAL ENCODED G STATE ---\\n\")\n",
    "\n",
    "init = bit0_g\n",
    "basis = \"had\"\n",
    "shoot(init,basis)\n",
    "\n",
    "print(\"-----\")\n",
    "\n",
    "init = bit1_g\n",
    "basis = \"had\"\n",
    "shoot(init,basis)"
   ]
  },
  {
   "cell_type": "markdown",
   "id": "feb933f0",
   "metadata": {},
   "source": [
    "#### Summary:\n",
    "- When encoded bit is in computational basis (H or V):\n",
    "    - Measured in computational basis --> get same polarization (H or V) with probability 1\n",
    "    - Measured in hadamard basis --> get H and V with equal probability of $\\frac{1}{2}$\n",
    "- When encoded bit is in hadamard basis (DL or DR):\n",
    "    - Measured in computational basis after rotation --> get H and V with equal probability of $\\frac{1}{2}$\n",
    "    - Measured in hadamard basis after rotation --> get same polarization (H for DL, or V for DR) with probability 1"
   ]
  },
  {
   "cell_type": "markdown",
   "id": "97089709",
   "metadata": {},
   "source": [
    "## Preliminaries – Defining functions used.\n",
    "\n",
    "- `encode(bitlist)`\n",
    "    - takes in array of bits (0s and 1s)\n",
    "    - encodes each bit in random basis\n",
    "    - returns array of encoded bits and array of encoding bases used\n",
    "- `decode(bitlist)`\n",
    "    - takes in array of encoded bits (h, v, dl, dr)\n",
    "    - decodes each bit in random basis\n",
    "    - returns array of decoded bits and array of decoding bases used\n",
    "- `match(ebase, dbase)`\n",
    "    - takes in arrays of encoding bases and decoding bases\n",
    "    - checks each basis\n",
    "    - returns array of indexes where bases match, match count, arrays of encoded and decoded bits at indexes of matching bases\n",
    "- `compare(ematch, dmatch, n)`\n",
    "    - takes in arrays of matched encoded and decoded bits, number n\n",
    "    - checks n number of bits from each array at the same index\n",
    "    - computes error rate\n",
    "    - returns arrays of matched decoded and encoded bits with checked bits discarded, and error rate"
   ]
  },
  {
   "cell_type": "code",
   "execution_count": 8,
   "id": "dedd4668",
   "metadata": {},
   "outputs": [],
   "source": [
    "def encode(bitlist):\n",
    "    \n",
    "    encoded = []\n",
    "    ebase = []\n",
    "\n",
    "    for bit in bitlist:\n",
    "        \n",
    "        base = int(np.random.choice([0,1]))\n",
    "        ebase.append(base)\n",
    "\n",
    "        if base == 0:   # computational basis +\n",
    "            if bit == 0:   # horizontal\n",
    "                ebit = \"h\"\n",
    "            else:          # vertical\n",
    "                ebit = \"v\"\n",
    "\n",
    "        else:           # hadamard basis X\n",
    "            if bit == 0:   # diagonal left\n",
    "                ebit = \"dl\"\n",
    "            else:          # diagonal right\n",
    "                ebit = \"dr\"\n",
    "        \n",
    "        encoded.append(ebit)\n",
    "        \n",
    "    return encoded, ebase"
   ]
  },
  {
   "cell_type": "code",
   "execution_count": 9,
   "id": "f5e2b1d4",
   "metadata": {},
   "outputs": [],
   "source": [
    "def decode(bitlist):\n",
    "    \n",
    "    decoded = []\n",
    "    dbase = []\n",
    "    \n",
    "    for bit in bitlist:\n",
    "    \n",
    "        base = int(np.random.choice([0,1]))\n",
    "        dbase.append(base)\n",
    "    \n",
    "        if base == 0:   # computational basis +\n",
    "            if bit == \"h\" or bit == \"v\":   # encode basis = decode basis\n",
    "                dbit = bit\n",
    "            else:                          # encode basis != decode basis\n",
    "                \n",
    "                # randomly decide on v or h in computational basis\n",
    "                randnum = int(np.random.choice([0,1]))\n",
    "                if randnum == 0:\n",
    "                    dbit = \"h\"\n",
    "                else:\n",
    "                    dbit = \"v\"\n",
    "\n",
    "        else:           # hadamard basis X\n",
    "            if bit == \"dl\" or bit == \"dr\":   # encode basis = decode basis\n",
    "                dbit = bit\n",
    "            else:                            # encode basis != decode basis\n",
    "                \n",
    "                # randomly decide on dl or dr in hadamard basis\n",
    "                randnum = int(np.random.choice([0,1]))\n",
    "                if randnum == 0:\n",
    "                    dbit = \"dl\"\n",
    "                else:\n",
    "                    dbit = \"dr\"\n",
    "    \n",
    "        decoded.append(dbit)\n",
    "        \n",
    "    return decoded, dbase"
   ]
  },
  {
   "cell_type": "code",
   "execution_count": 10,
   "id": "ab189366",
   "metadata": {},
   "outputs": [],
   "source": [
    "def match(ebase, dbase):\n",
    "    \n",
    "    matchindex = []\n",
    "    matchcount = 0\n",
    "    \n",
    "    for i in range(len(ebase)):\n",
    "        if ebase[i] == dbase[i]:\n",
    "            matchindex.append(i)\n",
    "            matchcount += 1\n",
    "    \n",
    "    ematch = []\n",
    "    dmatch = []  \n",
    "    \n",
    "    for index in matchindex:\n",
    "        ematch.append(encoded[index])\n",
    "        dmatch.append(decoded[index])\n",
    "    \n",
    "    return matchindex, matchcount, ematch, dmatch"
   ]
  },
  {
   "cell_type": "code",
   "execution_count": 11,
   "id": "a0706902",
   "metadata": {},
   "outputs": [],
   "source": [
    "def compare(ematch, dmatch, n):\n",
    "    \n",
    "    efinal = ematch\n",
    "    dfinal = dmatch\n",
    "    \n",
    "    totalindex = list(range(len(ematch)))\n",
    "    random.shuffle(totalindex)\n",
    "    \n",
    "    subsetindex = totalindex[:n]\n",
    "    subsetindex.sort()\n",
    "    subsetindex.reverse()\n",
    "    \n",
    "    esub = []\n",
    "    dsub = []\n",
    "    count = 0\n",
    "    \n",
    "    for i in subsetindex:\n",
    "        esub.append(ematch.pop(i))\n",
    "        dsub.append(dmatch.pop(i))\n",
    "    \n",
    "    for j in range(len(subsetindex)):\n",
    "        if esub[j] != dsub[j]:\n",
    "                count += 1\n",
    "    \n",
    "    error = count/len(subsetindex)\n",
    "    \n",
    "    detected = \"no eavesdropper detected!\"\n",
    "    \n",
    "    if abs((0.25 - error)/0.25) < 0.9:\n",
    "        detected = \"eavesdropper detected!\"\n",
    "    \n",
    "    return esub, dsub, efinal, dfinal, error, detected"
   ]
  },
  {
   "cell_type": "markdown",
   "id": "60fcb197",
   "metadata": {},
   "source": [
    "## 1. Error Rate (Without Eavesdropper)\n",
    "\n",
    "from theory, bits where bases disagree are discarded, so error rate = 0."
   ]
  },
  {
   "cell_type": "markdown",
   "id": "4a69010b",
   "metadata": {},
   "source": [
    "### Mini test run"
   ]
  },
  {
   "cell_type": "code",
   "execution_count": 12,
   "id": "e89b9b87",
   "metadata": {},
   "outputs": [
    {
     "name": "stdout",
     "output_type": "stream",
     "text": [
      "\n",
      "----- SIMULATION START (WITHOUT EAVESDROPPER) -----\n",
      "\n",
      "ALICE GENERATING 32 BITS......\n",
      "alice bits: [1 0 0 0 0 0 0 0 1 1 0 0 0 1 0 0 1 0 1 0 1 0 0 0 1 1 1 0 1 0 0 0]\n",
      "\n",
      "ALICE ENCODING BITS IN RANDOM BASIS......\n",
      "encoded bits: ['dr', 'dl', 'dl', 'h', 'h', 'h', 'h', 'h', 'v', 'dr', 'h', 'h', 'h', 'dr', 'h', 'dl', 'v', 'h', 'v', 'dl', 'dr', 'h', 'dl', 'dl', 'dr', 'dr', 'v', 'h', 'v', 'dl', 'h', 'dl']\n",
      "\n",
      "BOB DECODING BITS IN RANDOM BASIS......\n",
      "decoded bits: ['dr', 'dl', 'v', 'dl', 'dl', 'h', 'dr', 'dr', 'v', 'dr', 'dl', 'h', 'h', 'dr', 'h', 'dl', 'v', 'h', 'v', 'h', 'h', 'dl', 'dl', 'h', 'dr', 'dr', 'dr', 'dr', 'v', 'dl', 'dr', 'h']\n",
      "\n",
      "ALICE AND BOB ANNOUNCING ENCODING / DECODING BASIS......\n",
      "encoding basis: [1, 1, 1, 0, 0, 0, 0, 0, 0, 1, 0, 0, 0, 1, 0, 1, 0, 0, 0, 1, 1, 0, 1, 1, 1, 1, 0, 0, 0, 1, 0, 1]\n",
      "decoding basis: [1, 1, 0, 1, 1, 0, 1, 1, 0, 1, 1, 0, 0, 1, 0, 1, 0, 0, 0, 0, 0, 1, 1, 0, 1, 1, 1, 1, 0, 1, 1, 0]\n",
      "\n",
      "ALICE AND BOB KEEP BITS IN WHICH SAME BASIS WAS USED......\n",
      "basis matched 18/32 times.\n",
      "indexes where basis match: [0, 1, 5, 8, 9, 11, 12, 13, 14, 15, 16, 17, 18, 22, 24, 25, 28, 29]\n",
      "matched bits (encoded, 18 bits) = ['dr', 'dl', 'h', 'v', 'dr', 'h', 'h', 'dr', 'h', 'dl', 'v', 'h', 'v', 'dl', 'dr', 'dr', 'v', 'dl']\n",
      "matched bits (decoded, 18 bits) = ['dr', 'dl', 'h', 'v', 'dr', 'h', 'h', 'dr', 'h', 'dl', 'v', 'h', 'v', 'dl', 'dr', 'dr', 'v', 'dl']\n",
      "\n",
      "ALICE AND BOB COMPARE A SUBSET OF 8 BITS TO CHECK ERROR RATE......\n",
      "checked bits (encoded, 8 bits) = ['dl', 'dr', 'dl', 'h', 'h', 'dr', 'v', 'dl']\n",
      "checked bits (decoded, 8 bits) = ['dl', 'dr', 'dl', 'h', 'h', 'dr', 'v', 'dl']\n",
      "\n",
      "kept bits (encoded, 10 bits) = ['dr', 'h', 'h', 'dr', 'v', 'h', 'v', 'dl', 'dr', 'v']\n",
      "kept bits (decoded, 10 bits) = ['dr', 'h', 'h', 'dr', 'v', 'h', 'v', 'dl', 'dr', 'v']\n",
      "error rate = 0.0\n",
      "no eavesdropper detected!\n"
     ]
    }
   ],
   "source": [
    "# alice generates (4+d)n bits and encodes them, n bits of the remaining bits are used for error checking\n",
    "\n",
    "n = 8\n",
    "d = 0\n",
    "numbits = (4+d)*n\n",
    "\n",
    "print(\"\\n----- SIMULATION START (WITHOUT EAVESDROPPER) -----\\n\")\n",
    "\n",
    "print(f\"ALICE GENERATING {numbits} BITS......\")\n",
    "alice = np.random.choice([0, 1], size=(numbits,))\n",
    "print(f\"alice bits: {alice}\")\n",
    "\n",
    "print(\"\\nALICE ENCODING BITS IN RANDOM BASIS......\")\n",
    "encoded, ebase = encode(alice)\n",
    "\n",
    "print(f\"encoded bits: {encoded}\")\n",
    "\n",
    "print(\"\\nBOB DECODING BITS IN RANDOM BASIS......\")\n",
    "\n",
    "decoded, dbase = decode(encoded)\n",
    "\n",
    "print(f\"decoded bits: {decoded}\")\n",
    "\n",
    "print(\"\\nALICE AND BOB ANNOUNCING ENCODING / DECODING BASIS......\")\n",
    "print(f\"encoding basis: {ebase}\")\n",
    "print(f\"decoding basis: {dbase}\")\n",
    "\n",
    "print(\"\\nALICE AND BOB KEEP BITS IN WHICH SAME BASIS WAS USED......\")\n",
    "matchindex, matchcount, ematch, dmatch = match(ebase,dbase)\n",
    "print(f\"basis matched {matchcount}/{numbits} times.\")\n",
    "print(f\"indexes where basis match: {matchindex}\")\n",
    "print(f\"matched bits (encoded, {len(ematch)} bits) = {ematch}\")\n",
    "print(f\"matched bits (decoded, {len(dmatch)} bits) = {dmatch}\")\n",
    "\n",
    "print(f\"\\nALICE AND BOB COMPARE A SUBSET OF {n} BITS TO CHECK ERROR RATE......\")\n",
    "\n",
    "esub, dsub, efinal, dfinal, error, detected = compare(ematch, dmatch, n)\n",
    "print(f\"checked bits (encoded, {len(esub)} bits) = {esub}\")\n",
    "print(f\"checked bits (decoded, {len(dsub)} bits) = {dsub}\\n\")\n",
    "\n",
    "print(f\"kept bits (encoded, {len(efinal)} bits) = {efinal}\")\n",
    "print(f\"kept bits (decoded, {len(dfinal)} bits) = {dfinal}\")\n",
    "print(f\"error rate = {error}\")\n",
    "print(detected)"
   ]
  },
  {
   "cell_type": "markdown",
   "id": "d2d4aefa",
   "metadata": {},
   "source": [
    "### Full simulation"
   ]
  },
  {
   "cell_type": "code",
   "execution_count": 13,
   "id": "8498a00a",
   "metadata": {},
   "outputs": [
    {
     "name": "stdout",
     "output_type": "stream",
     "text": [
      "\n",
      "----- SIMULATION START (WITHOUT EAVESDROPPER) -----\n",
      "\n",
      "ALICE GENERATING 10000 BITS......\n",
      "\n",
      "ALICE ENCODING BITS IN RANDOM BASIS......\n",
      "\n",
      "BOB DECODING BITS IN RANDOM BASIS......\n",
      "\n",
      "ALICE AND BOB ANNOUNCING ENCODING / DECODING BASIS......\n",
      "\n",
      "ALICE AND BOB KEEP BITS IN WHICH SAME BASIS WAS USED......\n",
      "basis matched 4984/10000 times.\n",
      "\n",
      "ALICE AND BOB COMPARE A SUBSET OF 1000 BITS TO CHECK ERROR RATE......\n",
      "error rate = 0.0\n",
      "no eavesdropper detected!\n"
     ]
    }
   ],
   "source": [
    "# alice generates (4+d)n bits and encodes them, n bits of the remaining bits are used for error checking\n",
    "\n",
    "n = 1000\n",
    "d = 6\n",
    "numbits = (4+d)*n\n",
    "\n",
    "print(\"\\n----- SIMULATION START (WITHOUT EAVESDROPPER) -----\\n\")\n",
    "\n",
    "print(f\"ALICE GENERATING {numbits} BITS......\")\n",
    "alice = np.random.choice([0, 1], size=(numbits,))\n",
    "#print(f\"alice bits: {alice}\")\n",
    "\n",
    "print(\"\\nALICE ENCODING BITS IN RANDOM BASIS......\")\n",
    "encoded, ebase = encode(alice)\n",
    "\n",
    "#print(f\"encoded bits: {encoded}\")\n",
    "\n",
    "print(\"\\nBOB DECODING BITS IN RANDOM BASIS......\")\n",
    "\n",
    "decoded, dbase = decode(encoded)\n",
    "\n",
    "#print(f\"decoded bits: {decoded}\")\n",
    "\n",
    "print(\"\\nALICE AND BOB ANNOUNCING ENCODING / DECODING BASIS......\")\n",
    "#print(f\"encoding basis: {ebase}\")\n",
    "#print(f\"decoding basis: {dbase}\")\n",
    "\n",
    "print(\"\\nALICE AND BOB KEEP BITS IN WHICH SAME BASIS WAS USED......\")\n",
    "matchindex, matchcount, ematch, dmatch = match(ebase,dbase)\n",
    "print(f\"basis matched {matchcount}/{numbits} times.\")\n",
    "#print(f\"indexes where basis match: {matchindex}\")\n",
    "#print(f\"matched bits (encoded, {len(ematch)} bits) = {ematch}\")\n",
    "#print(f\"matched bits (decoded, {len(dmatch)} bits) = {dmatch}\")\n",
    "\n",
    "print(f\"\\nALICE AND BOB COMPARE A SUBSET OF {n} BITS TO CHECK ERROR RATE......\")\n",
    "\n",
    "esub, dsub, efinal, dfinal, error, detected = compare(ematch, dmatch, n)\n",
    "#print(f\"kept bits (encoded, {len(efinal)} bits) = {efinal}\")\n",
    "#print(f\"kept bits (decoded, {len(dfinal)} bits) = {dfinal}\")\n",
    "print(f\"error rate = {error}\")\n",
    "print(detected)"
   ]
  },
  {
   "cell_type": "markdown",
   "id": "fe76475e",
   "metadata": {},
   "source": [
    "## 2. Error Rate (With Eavesdropper)\n",
    "\n",
    "from theory, when there is an eavesdropper, error rate is:\n",
    "\n",
    "$$E = 0.5 \\times 0.5 = 0.25$$"
   ]
  },
  {
   "cell_type": "markdown",
   "id": "989165f7",
   "metadata": {},
   "source": [
    "### Mini test run"
   ]
  },
  {
   "cell_type": "code",
   "execution_count": 17,
   "id": "b95608ed",
   "metadata": {},
   "outputs": [
    {
     "name": "stdout",
     "output_type": "stream",
     "text": [
      "\n",
      "----- SIMULATION START (WITH EAVESDROPPER) -----\n",
      "\n",
      "ALICE GENERATING 32 BITS......\n",
      "alice bits: [0 0 1 0 0 1 1 1 0 1 1 0 1 0 1 0 1 1 1 1 0 1 1 0 0 1 1 1 1 0 0 1]\n",
      "\n",
      "ALICE ENCODING BITS IN RANDOM BASIS......\n",
      "encoded bits: ['h', 'dl', 'dr', 'h', 'h', 'dr', 'v', 'dr', 'h', 'dr', 'dr', 'dl', 'dr', 'dl', 'dr', 'dl', 'dr', 'v', 'dr', 'dr', 'dl', 'dr', 'dr', 'h', 'h', 'dr', 'dr', 'v', 'v', 'dl', 'h', 'dr']\n",
      "\n",
      "EVE DECODING BITS IN RANDOM BASIS......\n",
      "decoded bits BY EVE: ['dl', 'dl', 'dr', 'dr', 'h', 'h', 'v', 'dr', 'dl', 'v', 'v', 'dl', 'v', 'h', 'dr', 'dl', 'dr', 'v', 'h', 'h', 'v', 'v', 'dr', 'dr', 'h', 'v', 'h', 'v', 'dr', 'v', 'dl', 'h']\n",
      "\n",
      "BOB MEASURING BITS FROM EVE IN RANDOM BASIS......\n",
      "decoded bits: ['dl', 'h', 'v', 'dr', 'h', 'dl', 'v', 'dr', 'dl', 'dr', 'dr', 'h', 'dr', 'dr', 'dr', 'dl', 'dr', 'dl', 'dr', 'h', 'dl', 'v', 'h', 'h', 'h', 'v', 'h', 'dl', 'h', 'dl', 'v', 'h']\n",
      "\n",
      "ALICE AND BOB ANNOUNCING ENCODING / DECODING BASIS......\n",
      "encoding basis: [0, 1, 1, 0, 0, 1, 0, 1, 0, 1, 1, 1, 1, 1, 1, 1, 1, 0, 1, 1, 1, 1, 1, 0, 0, 1, 1, 0, 0, 1, 0, 1]\n",
      "eve's dc basis: [1, 1, 1, 1, 0, 0, 0, 1, 1, 0, 0, 1, 0, 0, 1, 1, 1, 0, 0, 0, 0, 0, 1, 1, 0, 0, 0, 0, 1, 0, 1, 0]\n",
      "decoding basis: [1, 0, 0, 1, 0, 1, 0, 1, 1, 1, 1, 0, 1, 1, 1, 1, 1, 1, 1, 0, 1, 0, 0, 0, 0, 0, 0, 1, 0, 1, 0, 0]\n",
      "\n",
      "ALICE AND BOB KEEP BITS IN WHICH SAME BASIS WAS USED......\n",
      "basis matched 18/32 times.\n",
      "indexes where basis match: [4, 5, 6, 7, 9, 10, 12, 13, 14, 15, 16, 18, 20, 23, 24, 28, 29, 30]\n",
      "matched bits (encoded, 18 bits) = ['h', 'dr', 'v', 'dr', 'dr', 'dr', 'dr', 'dl', 'dr', 'dl', 'dr', 'dr', 'dl', 'h', 'h', 'v', 'dl', 'h']\n",
      "matched bits (decoded, 18 bits) = ['h', 'dl', 'v', 'dr', 'dr', 'dr', 'dr', 'dr', 'dr', 'dl', 'dr', 'dr', 'dl', 'h', 'h', 'h', 'dl', 'v']\n",
      "\n",
      "ALICE AND BOB COMPARE A SUBSET OF 8 BITS TO CHECK ERROR RATE......\n",
      "checked bits (encoded, 8 bits) = ['h', 'v', 'h', 'dl', 'dr', 'dr', 'dr', 'v']\n",
      "checked bits (decoded, 8 bits) = ['v', 'h', 'h', 'dl', 'dr', 'dr', 'dr', 'v']\n",
      "\n",
      "kept bits (encoded, 10 bits) = ['h', 'dr', 'dr', 'dr', 'dl', 'dr', 'dl', 'dr', 'h', 'dl']\n",
      "kept bits (decoded, 10 bits) = ['h', 'dl', 'dr', 'dr', 'dr', 'dr', 'dl', 'dr', 'h', 'dl']\n",
      "error rate = 0.25\n",
      "eavesdropper detected!\n"
     ]
    }
   ],
   "source": [
    "# alice generates (4+d)n bits and encodes them, n bits of the remaining bits are used for error checking\n",
    "\n",
    "n = 8\n",
    "d = 0\n",
    "numbits = (4+d)*n\n",
    "\n",
    "print(\"\\n----- SIMULATION START (WITH EAVESDROPPER) -----\\n\")\n",
    "\n",
    "print(f\"ALICE GENERATING {numbits} BITS......\")\n",
    "alice = np.random.choice([0, 1], size=(numbits,))\n",
    "print(f\"alice bits: {alice}\")\n",
    "\n",
    "print(\"\\nALICE ENCODING BITS IN RANDOM BASIS......\")\n",
    "encoded, ebase = encode(alice)\n",
    "\n",
    "print(f\"encoded bits: {encoded}\")\n",
    "\n",
    "print(\"\\nEVE DECODING BITS IN RANDOM BASIS......\")\n",
    "\n",
    "decoded_eve, dbase_eve = decode(encoded)\n",
    "print(f\"decoded bits BY EVE: {decoded_eve}\")\n",
    "\n",
    "print(\"\\nBOB MEASURING BITS FROM EVE IN RANDOM BASIS......\")\n",
    "\n",
    "decoded, dbase = decode(decoded_eve)\n",
    "\n",
    "print(f\"decoded bits: {decoded}\")\n",
    "\n",
    "print(\"\\nALICE AND BOB ANNOUNCING ENCODING / DECODING BASIS......\")\n",
    "print(f\"encoding basis: {ebase}\")\n",
    "print(f\"eve's dc basis: {dbase_eve}\")\n",
    "print(f\"decoding basis: {dbase}\")\n",
    "\n",
    "print(\"\\nALICE AND BOB KEEP BITS IN WHICH SAME BASIS WAS USED......\")\n",
    "matchindex, matchcount, ematch, dmatch = match(ebase,dbase)\n",
    "print(f\"basis matched {matchcount}/{numbits} times.\")\n",
    "print(f\"indexes where basis match: {matchindex}\")\n",
    "print(f\"matched bits (encoded, {len(ematch)} bits) = {ematch}\")\n",
    "print(f\"matched bits (decoded, {len(dmatch)} bits) = {dmatch}\")\n",
    "\n",
    "print(f\"\\nALICE AND BOB COMPARE A SUBSET OF {n} BITS TO CHECK ERROR RATE......\")\n",
    "\n",
    "esub, dsub, efinal, dfinal, error, detected = compare(ematch, dmatch, n)\n",
    "print(f\"checked bits (encoded, {len(esub)} bits) = {esub}\")\n",
    "print(f\"checked bits (decoded, {len(dsub)} bits) = {dsub}\\n\")\n",
    "\n",
    "print(f\"kept bits (encoded, {len(efinal)} bits) = {efinal}\")\n",
    "print(f\"kept bits (decoded, {len(dfinal)} bits) = {dfinal}\")\n",
    "print(f\"error rate = {error}\")\n",
    "print(detected)"
   ]
  },
  {
   "cell_type": "markdown",
   "id": "a87cdfed",
   "metadata": {},
   "source": [
    "### Full simulation"
   ]
  },
  {
   "cell_type": "code",
   "execution_count": 18,
   "id": "f9f0fbc9",
   "metadata": {},
   "outputs": [
    {
     "name": "stdout",
     "output_type": "stream",
     "text": [
      "\n",
      "----- SIMULATION START (WITH EAVESDROPPER) -----\n",
      "\n",
      "ALICE GENERATING 10000 BITS......\n",
      "\n",
      "ALICE ENCODING BITS IN RANDOM BASIS......\n",
      "\n",
      "EVE DECODING BITS IN RANDOM BASIS......\n",
      "\n",
      "BOB MEASURING BITS FROM EVE IN RANDOM BASIS......\n",
      "\n",
      "ALICE AND BOB ANNOUNCING ENCODING / DECODING BASIS......\n",
      "\n",
      "ALICE AND BOB KEEP BITS IN WHICH SAME BASIS WAS USED......\n",
      "basis matched 4974/10000 times.\n",
      "\n",
      "ALICE AND BOB COMPARE A SUBSET OF 1000 BITS TO CHECK ERROR RATE......\n",
      "error rate = 0.248\n",
      "eavesdropper detected!\n"
     ]
    }
   ],
   "source": [
    "# alice generates (4+d)n bits and encodes them, n bits of the remaining bits are used for error checking\n",
    "\n",
    "n = 1000\n",
    "d = 6\n",
    "numbits = (4+d)*n\n",
    "\n",
    "print(\"\\n----- SIMULATION START (WITH EAVESDROPPER) -----\\n\")\n",
    "\n",
    "print(f\"ALICE GENERATING {numbits} BITS......\")\n",
    "alice = np.random.choice([0, 1], size=(numbits,))\n",
    "#print(f\"alice bits: {alice}\")\n",
    "\n",
    "print(\"\\nALICE ENCODING BITS IN RANDOM BASIS......\")\n",
    "encoded, ebase = encode(alice)\n",
    "\n",
    "#print(f\"encoded bits: {encoded}\")\n",
    "\n",
    "print(\"\\nEVE DECODING BITS IN RANDOM BASIS......\")\n",
    "\n",
    "decoded_eve, dbase_eve = decode(encoded)\n",
    "#print(f\"decoded bits BY EVE: {decoded_eve}\")\n",
    "\n",
    "print(\"\\nBOB MEASURING BITS FROM EVE IN RANDOM BASIS......\")\n",
    "\n",
    "decoded, dbase = decode(decoded_eve)\n",
    "\n",
    "#print(f\"decoded bits: {decoded}\")\n",
    "\n",
    "print(\"\\nALICE AND BOB ANNOUNCING ENCODING / DECODING BASIS......\")\n",
    "#print(f\"encoding basis: {ebase}\")\n",
    "#print(f\"eve's dc basis: {dbase_eve}\")\n",
    "#print(f\"decoding basis: {dbase}\")\n",
    "\n",
    "print(\"\\nALICE AND BOB KEEP BITS IN WHICH SAME BASIS WAS USED......\")\n",
    "matchindex, matchcount, ematch, dmatch = match(ebase,dbase)\n",
    "print(f\"basis matched {matchcount}/{numbits} times.\")\n",
    "#print(f\"indexes where basis match: {matchindex}\")\n",
    "#print(f\"matched bits (encoded, {len(ematch)} bits) = {ematch}\")\n",
    "#print(f\"matched bits (decoded, {len(dmatch)} bits) = {dmatch}\")\n",
    "\n",
    "print(f\"\\nALICE AND BOB COMPARE A SUBSET OF {n} BITS TO CHECK ERROR RATE......\")\n",
    "\n",
    "esub, dsub, efinal, dfinal, error, detected = compare(ematch, dmatch, n)\n",
    "#print(f\"kept bits (encoded, {len(efinal)} bits) = {efinal}\")\n",
    "#print(f\"kept bits (decoded, {len(dfinal)} bits) = {dfinal}\")\n",
    "print(f\"error rate = {error}\")\n",
    "print(detected)"
   ]
  },
  {
   "cell_type": "markdown",
   "id": "91689670",
   "metadata": {},
   "source": [
    "#### Summary:\n",
    "- Error rate without eavesdropper is 0 --> matches theoretical predictions\n",
    "- Error rate with eavesdropper is ~0.25 --> matches theoretical predictions"
   ]
  },
  {
   "cell_type": "code",
   "execution_count": null,
   "id": "4259dba3",
   "metadata": {},
   "outputs": [],
   "source": []
  }
 ],
 "metadata": {
  "kernelspec": {
   "display_name": "Python 3 (ipykernel)",
   "language": "python",
   "name": "python3"
  },
  "language_info": {
   "codemirror_mode": {
    "name": "ipython",
    "version": 3
   },
   "file_extension": ".py",
   "mimetype": "text/x-python",
   "name": "python",
   "nbconvert_exporter": "python",
   "pygments_lexer": "ipython3",
   "version": "3.9.12"
  }
 },
 "nbformat": 4,
 "nbformat_minor": 5
}
